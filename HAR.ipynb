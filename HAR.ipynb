{
  "nbformat": 4,
  "nbformat_minor": 0,
  "metadata": {
    "colab": {
      "provenance": []
    },
    "kernelspec": {
      "name": "python3",
      "display_name": "Python 3"
    },
    "language_info": {
      "name": "python"
    }
  },
  "cells": [
    {
      "cell_type": "code",
      "metadata": {
        "id": "ov61wR-hmVoo"
      },
      "source": [
        "import numpy as np\n",
        "import pandas as pd\n",
        "import itertools\n",
        "import matplotlib.pyplot as plt\n",
        "from sklearn.metrics import confusion_matrix\n",
        "from datetime import datetime\n",
        "\n",
        "from sklearn import linear_model\n",
        "from sklearn import metrics\n",
        "\n",
        "from sklearn.ensemble import RandomForestClassifier\n",
        "\n"
      ],
      "execution_count": null,
      "outputs": []
    },
    {
      "cell_type": "code",
      "metadata": {
        "colab": {
          "base_uri": "https://localhost:8080/"
        },
        "id": "iGrFHCsNuMEs",
        "outputId": "01e3744d-0014-4452-9a33-c0f7d3c6c194"
      },
      "source": [
        "features = list()\n",
        "with open('features.txt') as f:\n",
        "    features = [line.split()[1] for line in f.readlines()]\n",
        "print('No of Features: {}'.format(len(features)))"
      ],
      "execution_count": null,
      "outputs": [
        {
          "output_type": "stream",
          "text": [
            "No of Features: 561\n"
          ],
          "name": "stdout"
        }
      ]
    },
    {
      "cell_type": "code",
      "metadata": {
        "colab": {
          "base_uri": "https://localhost:8080/"
        },
        "id": "35_tQsp61qt_",
        "outputId": "7c908f2c-d7cf-40d6-bee4-ee65a30b4aa5"
      },
      "source": [
        "d={}\n",
        "for i in range(561):\n",
        "  x=features[i]\n",
        "  if x not in d:\n",
        "    d[x]=1\n",
        "  else:\n",
        "    features[i]=x+str(d[x])\n",
        "    d[x]+=1\n",
        "\n",
        "print(len(set(features)))"
      ],
      "execution_count": null,
      "outputs": [
        {
          "output_type": "stream",
          "text": [
            "561\n"
          ],
          "name": "stdout"
        }
      ]
    },
    {
      "cell_type": "code",
      "metadata": {
        "colab": {
          "base_uri": "https://localhost:8080/",
          "height": 162
        },
        "id": "BgmzhedUtdsB",
        "outputId": "906f8f7d-c27d-4b10-bfc1-c724c37c2f39"
      },
      "source": [
        "X_train = pd.read_csv('X_train.txt', delim_whitespace=True, header=None,mangle_dupe_cols=True, names=features)\n",
        "\n",
        "# add subject column to the dataframe\n",
        "#x_train['subject'] = pd.read_csv('subject_train.txt', header=None, squeeze=True)\n",
        "\n",
        "y_train = pd.read_csv('y_train.txt', names=['Activity'], squeeze=True)\n",
        "y_train_labels = y_train.map({1: 'WALKING', 2:'WALKING_UPSTAIRS',3:'WALKING_DOWNSTAIRS',\\\n",
        "                       4:'SITTING', 5:'STANDING',6:'LAYING'})\n",
        "\n",
        "# put all columns in a single dataframe\n",
        "train = X_train\n",
        "train.sample()"
      ],
      "execution_count": null,
      "outputs": [
        {
          "output_type": "execute_result",
          "data": {
            "text/html": [
              "<div>\n",
              "<style scoped>\n",
              "    .dataframe tbody tr th:only-of-type {\n",
              "        vertical-align: middle;\n",
              "    }\n",
              "\n",
              "    .dataframe tbody tr th {\n",
              "        vertical-align: top;\n",
              "    }\n",
              "\n",
              "    .dataframe thead th {\n",
              "        text-align: right;\n",
              "    }\n",
              "</style>\n",
              "<table border=\"1\" class=\"dataframe\">\n",
              "  <thead>\n",
              "    <tr style=\"text-align: right;\">\n",
              "      <th></th>\n",
              "      <th>tBodyAcc-mean()-X</th>\n",
              "      <th>tBodyAcc-mean()-Y</th>\n",
              "      <th>tBodyAcc-mean()-Z</th>\n",
              "      <th>tBodyAcc-std()-X</th>\n",
              "      <th>tBodyAcc-std()-Y</th>\n",
              "      <th>tBodyAcc-std()-Z</th>\n",
              "      <th>tBodyAcc-mad()-X</th>\n",
              "      <th>tBodyAcc-mad()-Y</th>\n",
              "      <th>tBodyAcc-mad()-Z</th>\n",
              "      <th>tBodyAcc-max()-X</th>\n",
              "      <th>tBodyAcc-max()-Y</th>\n",
              "      <th>tBodyAcc-max()-Z</th>\n",
              "      <th>tBodyAcc-min()-X</th>\n",
              "      <th>tBodyAcc-min()-Y</th>\n",
              "      <th>tBodyAcc-min()-Z</th>\n",
              "      <th>tBodyAcc-sma()</th>\n",
              "      <th>tBodyAcc-energy()-X</th>\n",
              "      <th>tBodyAcc-energy()-Y</th>\n",
              "      <th>tBodyAcc-energy()-Z</th>\n",
              "      <th>tBodyAcc-iqr()-X</th>\n",
              "      <th>tBodyAcc-iqr()-Y</th>\n",
              "      <th>tBodyAcc-iqr()-Z</th>\n",
              "      <th>tBodyAcc-entropy()-X</th>\n",
              "      <th>tBodyAcc-entropy()-Y</th>\n",
              "      <th>tBodyAcc-entropy()-Z</th>\n",
              "      <th>tBodyAcc-arCoeff()-X,1</th>\n",
              "      <th>tBodyAcc-arCoeff()-X,2</th>\n",
              "      <th>tBodyAcc-arCoeff()-X,3</th>\n",
              "      <th>tBodyAcc-arCoeff()-X,4</th>\n",
              "      <th>tBodyAcc-arCoeff()-Y,1</th>\n",
              "      <th>tBodyAcc-arCoeff()-Y,2</th>\n",
              "      <th>tBodyAcc-arCoeff()-Y,3</th>\n",
              "      <th>tBodyAcc-arCoeff()-Y,4</th>\n",
              "      <th>tBodyAcc-arCoeff()-Z,1</th>\n",
              "      <th>tBodyAcc-arCoeff()-Z,2</th>\n",
              "      <th>tBodyAcc-arCoeff()-Z,3</th>\n",
              "      <th>tBodyAcc-arCoeff()-Z,4</th>\n",
              "      <th>tBodyAcc-correlation()-X,Y</th>\n",
              "      <th>tBodyAcc-correlation()-X,Z</th>\n",
              "      <th>tBodyAcc-correlation()-Y,Z</th>\n",
              "      <th>...</th>\n",
              "      <th>fBodyBodyAccJerkMag-energy()</th>\n",
              "      <th>fBodyBodyAccJerkMag-iqr()</th>\n",
              "      <th>fBodyBodyAccJerkMag-entropy()</th>\n",
              "      <th>fBodyBodyAccJerkMag-maxInds</th>\n",
              "      <th>fBodyBodyAccJerkMag-meanFreq()</th>\n",
              "      <th>fBodyBodyAccJerkMag-skewness()</th>\n",
              "      <th>fBodyBodyAccJerkMag-kurtosis()</th>\n",
              "      <th>fBodyBodyGyroMag-mean()</th>\n",
              "      <th>fBodyBodyGyroMag-std()</th>\n",
              "      <th>fBodyBodyGyroMag-mad()</th>\n",
              "      <th>fBodyBodyGyroMag-max()</th>\n",
              "      <th>fBodyBodyGyroMag-min()</th>\n",
              "      <th>fBodyBodyGyroMag-sma()</th>\n",
              "      <th>fBodyBodyGyroMag-energy()</th>\n",
              "      <th>fBodyBodyGyroMag-iqr()</th>\n",
              "      <th>fBodyBodyGyroMag-entropy()</th>\n",
              "      <th>fBodyBodyGyroMag-maxInds</th>\n",
              "      <th>fBodyBodyGyroMag-meanFreq()</th>\n",
              "      <th>fBodyBodyGyroMag-skewness()</th>\n",
              "      <th>fBodyBodyGyroMag-kurtosis()</th>\n",
              "      <th>fBodyBodyGyroJerkMag-mean()</th>\n",
              "      <th>fBodyBodyGyroJerkMag-std()</th>\n",
              "      <th>fBodyBodyGyroJerkMag-mad()</th>\n",
              "      <th>fBodyBodyGyroJerkMag-max()</th>\n",
              "      <th>fBodyBodyGyroJerkMag-min()</th>\n",
              "      <th>fBodyBodyGyroJerkMag-sma()</th>\n",
              "      <th>fBodyBodyGyroJerkMag-energy()</th>\n",
              "      <th>fBodyBodyGyroJerkMag-iqr()</th>\n",
              "      <th>fBodyBodyGyroJerkMag-entropy()</th>\n",
              "      <th>fBodyBodyGyroJerkMag-maxInds</th>\n",
              "      <th>fBodyBodyGyroJerkMag-meanFreq()</th>\n",
              "      <th>fBodyBodyGyroJerkMag-skewness()</th>\n",
              "      <th>fBodyBodyGyroJerkMag-kurtosis()</th>\n",
              "      <th>angle(tBodyAccMean,gravity)</th>\n",
              "      <th>angle(tBodyAccJerkMean),gravityMean)</th>\n",
              "      <th>angle(tBodyGyroMean,gravityMean)</th>\n",
              "      <th>angle(tBodyGyroJerkMean,gravityMean)</th>\n",
              "      <th>angle(X,gravityMean)</th>\n",
              "      <th>angle(Y,gravityMean)</th>\n",
              "      <th>angle(Z,gravityMean)</th>\n",
              "    </tr>\n",
              "  </thead>\n",
              "  <tbody>\n",
              "    <tr>\n",
              "      <th>583</th>\n",
              "      <td>0.266333</td>\n",
              "      <td>-0.021374</td>\n",
              "      <td>-0.093461</td>\n",
              "      <td>-0.994942</td>\n",
              "      <td>-0.99464</td>\n",
              "      <td>-0.994633</td>\n",
              "      <td>-0.99523</td>\n",
              "      <td>-0.993334</td>\n",
              "      <td>-0.994531</td>\n",
              "      <td>-0.942839</td>\n",
              "      <td>-0.574657</td>\n",
              "      <td>-0.81734</td>\n",
              "      <td>0.844826</td>\n",
              "      <td>0.691509</td>\n",
              "      <td>0.849655</td>\n",
              "      <td>-0.989429</td>\n",
              "      <td>-0.999941</td>\n",
              "      <td>-0.999942</td>\n",
              "      <td>-0.999592</td>\n",
              "      <td>-0.994697</td>\n",
              "      <td>-0.991681</td>\n",
              "      <td>-0.992495</td>\n",
              "      <td>-0.826873</td>\n",
              "      <td>-0.911601</td>\n",
              "      <td>-0.38665</td>\n",
              "      <td>0.137183</td>\n",
              "      <td>-0.145237</td>\n",
              "      <td>0.035</td>\n",
              "      <td>0.095439</td>\n",
              "      <td>0.258088</td>\n",
              "      <td>-0.165825</td>\n",
              "      <td>0.203241</td>\n",
              "      <td>-0.023885</td>\n",
              "      <td>0.309905</td>\n",
              "      <td>-0.317632</td>\n",
              "      <td>0.406194</td>\n",
              "      <td>-0.353147</td>\n",
              "      <td>-0.041783</td>\n",
              "      <td>-0.065999</td>\n",
              "      <td>-0.278195</td>\n",
              "      <td>...</td>\n",
              "      <td>-0.999964</td>\n",
              "      <td>-0.995112</td>\n",
              "      <td>-1.0</td>\n",
              "      <td>0.142857</td>\n",
              "      <td>0.389123</td>\n",
              "      <td>-0.714497</td>\n",
              "      <td>-0.946262</td>\n",
              "      <td>-0.996258</td>\n",
              "      <td>-0.994816</td>\n",
              "      <td>-0.994943</td>\n",
              "      <td>-0.995665</td>\n",
              "      <td>-0.997164</td>\n",
              "      <td>-0.996258</td>\n",
              "      <td>-0.99997</td>\n",
              "      <td>-0.996226</td>\n",
              "      <td>-0.924075</td>\n",
              "      <td>-1.0</td>\n",
              "      <td>0.02926</td>\n",
              "      <td>-0.419712</td>\n",
              "      <td>-0.766673</td>\n",
              "      <td>-0.999185</td>\n",
              "      <td>-0.998736</td>\n",
              "      <td>-0.99838</td>\n",
              "      <td>-0.999158</td>\n",
              "      <td>-0.999376</td>\n",
              "      <td>-0.999185</td>\n",
              "      <td>-0.999997</td>\n",
              "      <td>-0.997588</td>\n",
              "      <td>-1.0</td>\n",
              "      <td>-1.0</td>\n",
              "      <td>0.334314</td>\n",
              "      <td>-0.72035</td>\n",
              "      <td>-0.929431</td>\n",
              "      <td>0.034248</td>\n",
              "      <td>-0.377427</td>\n",
              "      <td>0.258314</td>\n",
              "      <td>-0.265185</td>\n",
              "      <td>0.392094</td>\n",
              "      <td>-0.65414</td>\n",
              "      <td>-0.31259</td>\n",
              "    </tr>\n",
              "  </tbody>\n",
              "</table>\n",
              "<p>1 rows × 561 columns</p>\n",
              "</div>"
            ],
            "text/plain": [
              "     tBodyAcc-mean()-X  ...  angle(Z,gravityMean)\n",
              "583           0.266333  ...              -0.31259\n",
              "\n",
              "[1 rows x 561 columns]"
            ]
          },
          "metadata": {
            "tags": []
          },
          "execution_count": 67
        }
      ]
    },
    {
      "cell_type": "code",
      "metadata": {
        "colab": {
          "base_uri": "https://localhost:8080/",
          "height": 162
        },
        "id": "bpfvXmKb2JYz",
        "outputId": "a8da5292-2c35-4d9f-a941-adfe792c2f4c"
      },
      "source": [
        "# get the data from txt files to pandas dataffame\n",
        "X_test = pd.read_csv('X_test.txt', delim_whitespace=True, header=None, names=features)\n",
        "\n",
        "# add subject column to the dataframe\n",
        "#X_test['subject'] = pd.read_csv('subject_test.txt', header=None, squeeze=True)\n",
        "\n",
        "# get y labels from the txt file\n",
        "y_test = pd.read_csv('y_test.txt', names=['Activity'], squeeze=True)\n",
        "y_test_labels = y_test.map({1: 'WALKING', 2:'WALKING_UPSTAIRS',3:'WALKING_DOWNSTAIRS',\\\n",
        "                       4:'SITTING', 5:'STANDING',6:'LAYING'})\n",
        "\n",
        "\n",
        "# put all columns in a single dataframe\n",
        "test = X_test\n",
        "test.sample()"
      ],
      "execution_count": null,
      "outputs": [
        {
          "output_type": "execute_result",
          "data": {
            "text/html": [
              "<div>\n",
              "<style scoped>\n",
              "    .dataframe tbody tr th:only-of-type {\n",
              "        vertical-align: middle;\n",
              "    }\n",
              "\n",
              "    .dataframe tbody tr th {\n",
              "        vertical-align: top;\n",
              "    }\n",
              "\n",
              "    .dataframe thead th {\n",
              "        text-align: right;\n",
              "    }\n",
              "</style>\n",
              "<table border=\"1\" class=\"dataframe\">\n",
              "  <thead>\n",
              "    <tr style=\"text-align: right;\">\n",
              "      <th></th>\n",
              "      <th>tBodyAcc-mean()-X</th>\n",
              "      <th>tBodyAcc-mean()-Y</th>\n",
              "      <th>tBodyAcc-mean()-Z</th>\n",
              "      <th>tBodyAcc-std()-X</th>\n",
              "      <th>tBodyAcc-std()-Y</th>\n",
              "      <th>tBodyAcc-std()-Z</th>\n",
              "      <th>tBodyAcc-mad()-X</th>\n",
              "      <th>tBodyAcc-mad()-Y</th>\n",
              "      <th>tBodyAcc-mad()-Z</th>\n",
              "      <th>tBodyAcc-max()-X</th>\n",
              "      <th>tBodyAcc-max()-Y</th>\n",
              "      <th>tBodyAcc-max()-Z</th>\n",
              "      <th>tBodyAcc-min()-X</th>\n",
              "      <th>tBodyAcc-min()-Y</th>\n",
              "      <th>tBodyAcc-min()-Z</th>\n",
              "      <th>tBodyAcc-sma()</th>\n",
              "      <th>tBodyAcc-energy()-X</th>\n",
              "      <th>tBodyAcc-energy()-Y</th>\n",
              "      <th>tBodyAcc-energy()-Z</th>\n",
              "      <th>tBodyAcc-iqr()-X</th>\n",
              "      <th>tBodyAcc-iqr()-Y</th>\n",
              "      <th>tBodyAcc-iqr()-Z</th>\n",
              "      <th>tBodyAcc-entropy()-X</th>\n",
              "      <th>tBodyAcc-entropy()-Y</th>\n",
              "      <th>tBodyAcc-entropy()-Z</th>\n",
              "      <th>tBodyAcc-arCoeff()-X,1</th>\n",
              "      <th>tBodyAcc-arCoeff()-X,2</th>\n",
              "      <th>tBodyAcc-arCoeff()-X,3</th>\n",
              "      <th>tBodyAcc-arCoeff()-X,4</th>\n",
              "      <th>tBodyAcc-arCoeff()-Y,1</th>\n",
              "      <th>tBodyAcc-arCoeff()-Y,2</th>\n",
              "      <th>tBodyAcc-arCoeff()-Y,3</th>\n",
              "      <th>tBodyAcc-arCoeff()-Y,4</th>\n",
              "      <th>tBodyAcc-arCoeff()-Z,1</th>\n",
              "      <th>tBodyAcc-arCoeff()-Z,2</th>\n",
              "      <th>tBodyAcc-arCoeff()-Z,3</th>\n",
              "      <th>tBodyAcc-arCoeff()-Z,4</th>\n",
              "      <th>tBodyAcc-correlation()-X,Y</th>\n",
              "      <th>tBodyAcc-correlation()-X,Z</th>\n",
              "      <th>tBodyAcc-correlation()-Y,Z</th>\n",
              "      <th>...</th>\n",
              "      <th>fBodyBodyAccJerkMag-energy()</th>\n",
              "      <th>fBodyBodyAccJerkMag-iqr()</th>\n",
              "      <th>fBodyBodyAccJerkMag-entropy()</th>\n",
              "      <th>fBodyBodyAccJerkMag-maxInds</th>\n",
              "      <th>fBodyBodyAccJerkMag-meanFreq()</th>\n",
              "      <th>fBodyBodyAccJerkMag-skewness()</th>\n",
              "      <th>fBodyBodyAccJerkMag-kurtosis()</th>\n",
              "      <th>fBodyBodyGyroMag-mean()</th>\n",
              "      <th>fBodyBodyGyroMag-std()</th>\n",
              "      <th>fBodyBodyGyroMag-mad()</th>\n",
              "      <th>fBodyBodyGyroMag-max()</th>\n",
              "      <th>fBodyBodyGyroMag-min()</th>\n",
              "      <th>fBodyBodyGyroMag-sma()</th>\n",
              "      <th>fBodyBodyGyroMag-energy()</th>\n",
              "      <th>fBodyBodyGyroMag-iqr()</th>\n",
              "      <th>fBodyBodyGyroMag-entropy()</th>\n",
              "      <th>fBodyBodyGyroMag-maxInds</th>\n",
              "      <th>fBodyBodyGyroMag-meanFreq()</th>\n",
              "      <th>fBodyBodyGyroMag-skewness()</th>\n",
              "      <th>fBodyBodyGyroMag-kurtosis()</th>\n",
              "      <th>fBodyBodyGyroJerkMag-mean()</th>\n",
              "      <th>fBodyBodyGyroJerkMag-std()</th>\n",
              "      <th>fBodyBodyGyroJerkMag-mad()</th>\n",
              "      <th>fBodyBodyGyroJerkMag-max()</th>\n",
              "      <th>fBodyBodyGyroJerkMag-min()</th>\n",
              "      <th>fBodyBodyGyroJerkMag-sma()</th>\n",
              "      <th>fBodyBodyGyroJerkMag-energy()</th>\n",
              "      <th>fBodyBodyGyroJerkMag-iqr()</th>\n",
              "      <th>fBodyBodyGyroJerkMag-entropy()</th>\n",
              "      <th>fBodyBodyGyroJerkMag-maxInds</th>\n",
              "      <th>fBodyBodyGyroJerkMag-meanFreq()</th>\n",
              "      <th>fBodyBodyGyroJerkMag-skewness()</th>\n",
              "      <th>fBodyBodyGyroJerkMag-kurtosis()</th>\n",
              "      <th>angle(tBodyAccMean,gravity)</th>\n",
              "      <th>angle(tBodyAccJerkMean),gravityMean)</th>\n",
              "      <th>angle(tBodyGyroMean,gravityMean)</th>\n",
              "      <th>angle(tBodyGyroJerkMean,gravityMean)</th>\n",
              "      <th>angle(X,gravityMean)</th>\n",
              "      <th>angle(Y,gravityMean)</th>\n",
              "      <th>angle(Z,gravityMean)</th>\n",
              "    </tr>\n",
              "  </thead>\n",
              "  <tbody>\n",
              "    <tr>\n",
              "      <th>2177</th>\n",
              "      <td>0.253873</td>\n",
              "      <td>0.009288</td>\n",
              "      <td>-0.010252</td>\n",
              "      <td>-0.420931</td>\n",
              "      <td>-0.073919</td>\n",
              "      <td>-0.422823</td>\n",
              "      <td>-0.479723</td>\n",
              "      <td>-0.093226</td>\n",
              "      <td>-0.447384</td>\n",
              "      <td>-0.147904</td>\n",
              "      <td>-0.047771</td>\n",
              "      <td>-0.425192</td>\n",
              "      <td>0.47086</td>\n",
              "      <td>0.251628</td>\n",
              "      <td>0.403821</td>\n",
              "      <td>-0.286988</td>\n",
              "      <td>-0.830894</td>\n",
              "      <td>-0.832574</td>\n",
              "      <td>-0.832971</td>\n",
              "      <td>-0.592131</td>\n",
              "      <td>-0.318436</td>\n",
              "      <td>-0.545354</td>\n",
              "      <td>0.153935</td>\n",
              "      <td>0.339468</td>\n",
              "      <td>0.480405</td>\n",
              "      <td>-0.387892</td>\n",
              "      <td>0.118115</td>\n",
              "      <td>0.101905</td>\n",
              "      <td>0.105758</td>\n",
              "      <td>-0.27051</td>\n",
              "      <td>-0.050657</td>\n",
              "      <td>0.553517</td>\n",
              "      <td>-0.361111</td>\n",
              "      <td>-0.024427</td>\n",
              "      <td>-0.092363</td>\n",
              "      <td>0.104235</td>\n",
              "      <td>0.062468</td>\n",
              "      <td>-0.398361</td>\n",
              "      <td>-0.404812</td>\n",
              "      <td>0.220372</td>\n",
              "      <td>...</td>\n",
              "      <td>-0.93064</td>\n",
              "      <td>-0.595175</td>\n",
              "      <td>0.062371</td>\n",
              "      <td>-0.904762</td>\n",
              "      <td>-0.115157</td>\n",
              "      <td>-0.354443</td>\n",
              "      <td>-0.68783</td>\n",
              "      <td>-0.578762</td>\n",
              "      <td>-0.20855</td>\n",
              "      <td>-0.358807</td>\n",
              "      <td>-0.200994</td>\n",
              "      <td>-0.973235</td>\n",
              "      <td>-0.578762</td>\n",
              "      <td>-0.720779</td>\n",
              "      <td>-0.771391</td>\n",
              "      <td>0.281896</td>\n",
              "      <td>-1.0</td>\n",
              "      <td>-0.639874</td>\n",
              "      <td>0.139289</td>\n",
              "      <td>-0.262985</td>\n",
              "      <td>-0.814796</td>\n",
              "      <td>-0.887838</td>\n",
              "      <td>-0.852301</td>\n",
              "      <td>-0.927919</td>\n",
              "      <td>-0.977231</td>\n",
              "      <td>-0.814796</td>\n",
              "      <td>-0.986402</td>\n",
              "      <td>-0.797053</td>\n",
              "      <td>-0.04986</td>\n",
              "      <td>-0.68254</td>\n",
              "      <td>0.176717</td>\n",
              "      <td>-0.900529</td>\n",
              "      <td>-0.988118</td>\n",
              "      <td>0.360048</td>\n",
              "      <td>-0.63963</td>\n",
              "      <td>-0.952736</td>\n",
              "      <td>0.190759</td>\n",
              "      <td>-0.548712</td>\n",
              "      <td>0.3106</td>\n",
              "      <td>0.247997</td>\n",
              "    </tr>\n",
              "  </tbody>\n",
              "</table>\n",
              "<p>1 rows × 561 columns</p>\n",
              "</div>"
            ],
            "text/plain": [
              "      tBodyAcc-mean()-X  ...  angle(Z,gravityMean)\n",
              "2177           0.253873  ...              0.247997\n",
              "\n",
              "[1 rows x 561 columns]"
            ]
          },
          "metadata": {
            "tags": []
          },
          "execution_count": 68
        }
      ]
    },
    {
      "cell_type": "code",
      "metadata": {
        "colab": {
          "base_uri": "https://localhost:8080/"
        },
        "id": "ZM-Smreu2RWu",
        "outputId": "35863b03-65e9-4096-9832-e55ee4b3b99a"
      },
      "source": [
        "train.shape"
      ],
      "execution_count": null,
      "outputs": [
        {
          "output_type": "execute_result",
          "data": {
            "text/plain": [
              "(7352, 561)"
            ]
          },
          "metadata": {
            "tags": []
          },
          "execution_count": 69
        }
      ]
    },
    {
      "cell_type": "code",
      "metadata": {
        "id": "z2PtHSO62T7v"
      },
      "source": [
        "params = {'n_estimators': np.arange(10,201,20), 'max_depth':np.arange(3,15,2)}\n",
        "rfc = RandomForestClassifier(n_estimators=200)\n",
        "rfc.fit(X_train, y_train)\n",
        "y_pred_test = rfc.predict(X_test)"
      ],
      "execution_count": null,
      "outputs": []
    },
    {
      "cell_type": "code",
      "metadata": {
        "id": "zrm6sajy3c-S"
      },
      "source": [
        "from sklearn.metrics import accuracy_score, confusion_matrix, classification_report"
      ],
      "execution_count": null,
      "outputs": []
    },
    {
      "cell_type": "code",
      "metadata": {
        "colab": {
          "base_uri": "https://localhost:8080/"
        },
        "id": "Hq4dQnlP3KQ-",
        "outputId": "79c2d80d-8397-47c9-bd07-10ea5d18461c"
      },
      "source": [
        "accuracy_score(y_test, y_pred_test)"
      ],
      "execution_count": null,
      "outputs": [
        {
          "output_type": "execute_result",
          "data": {
            "text/plain": [
              "0.9270444519850696"
            ]
          },
          "metadata": {
            "tags": []
          },
          "execution_count": 85
        }
      ]
    },
    {
      "cell_type": "code",
      "metadata": {
        "id": "XWittiw-4NVG"
      },
      "source": [
        "from sklearn.ensemble import  ExtraTreesClassifier\n",
        "et = ExtraTreesClassifier(n_estimators=200)\n",
        "et.fit(X_train, y_train)\n",
        "y_pred_test = et.predict(X_test)"
      ],
      "execution_count": null,
      "outputs": []
    },
    {
      "cell_type": "code",
      "metadata": {
        "colab": {
          "base_uri": "https://localhost:8080/"
        },
        "id": "9kNFiDSS5vtB",
        "outputId": "1e74983d-6cd5-4b46-c83d-322774b72cda"
      },
      "source": [
        "accuracy_score(y_test, y_pred_test)"
      ],
      "execution_count": null,
      "outputs": [
        {
          "output_type": "execute_result",
          "data": {
            "text/plain": [
              "0.9446895147607737"
            ]
          },
          "metadata": {
            "tags": []
          },
          "execution_count": 83
        }
      ]
    },
    {
      "cell_type": "code",
      "metadata": {
        "colab": {
          "base_uri": "https://localhost:8080/"
        },
        "id": "lZnkWXvX52gP",
        "outputId": "3e899ec0-c48e-4da4-e3b2-fa4fac39400d"
      },
      "source": [
        "rfaccs=[]\n",
        "etaccs=[]\n",
        "for x in [100,500,1000,3000,5000,6000,7000]:\n",
        "  rfc.fit(X_train[:x], y_train[:x])\n",
        "  p1 = accuracy_score(y_test[:x], rfc.predict(X_test[:x]))\n",
        "  p1*=100\n",
        "  rfaccs.append(p1)\n",
        "  et.fit(X_train[:x], y_train[:x])\n",
        "  p2 =  accuracy_score(y_test[:x], et.predict(X_test[:x]))\n",
        "  p2*=100\n",
        "  etaccs.append(p2)\n",
        "  print(x,\"RF {:.2f} \".format(p1),\"\\t\",\"ET {:.2f}\".format(p2))\n",
        "  \n",
        "  print()\n"
      ],
      "execution_count": null,
      "outputs": [
        {
          "output_type": "stream",
          "text": [
            "100 RF 76.00  \t ET 76.00\n",
            "\n",
            "500 RF 75.80  \t ET 85.80\n",
            "\n",
            "1000 RF 90.60  \t ET 91.40\n",
            "\n",
            "3000 RF 86.22  \t ET 90.02\n",
            "\n",
            "5000 RF 90.87  \t ET 93.45\n",
            "\n",
            "6000 RF 92.33  \t ET 93.72\n",
            "\n",
            "7000 RF 92.81  \t ET 93.72\n",
            "\n"
          ],
          "name": "stdout"
        }
      ]
    },
    {
      "cell_type": "code",
      "metadata": {
        "colab": {
          "base_uri": "https://localhost:8080/"
        },
        "id": "nUkeKUQX8W90",
        "outputId": "73896cd4-3cc5-4ed1-b82e-9294500b90d5"
      },
      "source": [
        "rfaccs.append(92.8)\n",
        "etaccs.append(94.7)\n",
        "print(rfaccs)\n",
        "print(etaccs)"
      ],
      "execution_count": null,
      "outputs": [
        {
          "output_type": "stream",
          "text": [
            "[76.0, 73.2, 90.5, 87.47879199185611, 91.58466236851035, 91.55072955548015, 92.67051238547675, 92.8]\n",
            "[77.0, 83.2, 90.5, 90.77027485578554, 93.55276552426196, 93.85816084153376, 93.72242958941295, 94.7]\n"
          ],
          "name": "stdout"
        }
      ]
    },
    {
      "cell_type": "code",
      "metadata": {
        "colab": {
          "base_uri": "https://localhost:8080/",
          "height": 543
        },
        "id": "OB6GPBHR-DVK",
        "outputId": "ce399093-b964-4d4b-f24c-7b1974f232c1"
      },
      "source": [
        "x=['100','500','1000','5000']\n",
        "#print(rfaccs[:3]+[rfaccs[4]])\n",
        "plt.plot(x,rfaccs[:3]+[rfaccs[4]],label=\"DPDF\")\n",
        "plt.plot(x,etaccs[:3]+[etaccs[4]],label=\"Modified ET\")\n",
        "plt.xlabel(\"Number of Samples\")\n",
        "plt.ylabel(\"Accuracy\")\n",
        "plt.title(\"Number of Samples vs Accuracy\")\n",
        "plt.legend()\n",
        "fig = plt.figure()\n",
        "fig.set_figwidth(8)\n",
        "fig.set_figheight(4)\n",
        "plt.plot(x,rfaccs[:3]+[rfaccs[4]],label=\"DPDF\")\n",
        "plt.plot(x,etaccs[:3]+[etaccs[4]],label=\"Modified ET\")\n",
        "plt.show()"
      ],
      "execution_count": null,
      "outputs": [
        {
          "output_type": "display_data",
          "data": {
            "image/png": "[encoded data removed]",
            "text/plain": [
              "<Figure size 432x288 with 1 Axes>"
            ]
          },
          "metadata": {
            "tags": [],
            "needs_background": "light"
          }
        },
        {
          "output_type": "display_data",
          "data": {
            "image/png": "[encoded data removed]",
            "text/plain": [
              "<Figure size 576x288 with 1 Axes>"
            ]
          },
          "metadata": {
            "tags": [],
            "needs_background": "light"
          }
        }
      ]
    },
    {
      "cell_type": "code",
      "metadata": {
        "colab": {
          "base_uri": "https://localhost:8080/"
        },
        "id": "bGdOVZmk6Wqt",
        "outputId": "50d7bfbb-7813-49e7-9e58-96367c271a2d"
      },
      "source": [
        "rfs=[]\n",
        "ets=[]\n",
        "for x in [100,200,250,300]:\n",
        "    rfc = RandomForestClassifier(n_estimators=x)\n",
        "    rfc.fit(X_train, y_train)\n",
        "    p1=accuracy_score(y_test, rfc.predict(X_test))\n",
        "    p1*=100\n",
        "    rfs.append(p1)\n",
        "    et = ExtraTreesClassifier(n_estimators=x)\n",
        "    et.fit(X_train, y_train)\n",
        "    p2=accuracy_score(y_test, et.predict(X_test))\n",
        "    p2*=100\n",
        "    ets.append(p2)\n",
        "    print(x,\"RF {:.2f} \".format(p1),\"\\t\",\"ET {:.2f}\".format(p2))\n"
      ],
      "execution_count": null,
      "outputs": [
        {
          "output_type": "stream",
          "text": [
            "100 RF 92.30  \t ET 94.27\n",
            "200 RF 92.74  \t ET 93.86\n",
            "250 RF 92.53  \t ET 94.27\n",
            "300 RF 92.84  \t ET 94.06\n"
          ],
          "name": "stdout"
        }
      ]
    }
  ]
}